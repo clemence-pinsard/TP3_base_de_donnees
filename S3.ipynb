{
 "cells": [
  {
   "cell_type": "code",
   "execution_count": 4,
   "id": "56f8e52b-a0e1-4097-833d-e9cca606f893",
   "metadata": {},
   "outputs": [],
   "source": [
    "import os\n",
    "import polars as pl\n",
    "\n",
    "s3_endpoint = f'https://{os.environ[\"AWS_S3_ENDPOINT\"]}'\n",
    "s3_access_key = os.environ[\"AWS_ACCESS_KEY_ID\"]\n",
    "s3_secret_access_key = os.environ[\"AWS_SECRET_ACCESS_KEY\"]\n",
    "s3_session_token = os.environ[\"AWS_SESSION_TOKEN\"]\n",
    "s3_region = os.environ[\"AWS_DEFAULT_REGION\"]\n",
    "\n",
    "s3_username = os.environ[\"VAULT_TOP_DIR\"] # un peu bancal pour avoir le username"
   ]
  },
  {
   "cell_type": "code",
   "execution_count": 9,
   "id": "d1d27e4c-89c5-4b6c-9a04-674a223c262d",
   "metadata": {},
   "outputs": [],
   "source": [
    "s3_file_path = f\"s3://id2733-ensai/ensai/SQL/tp3-longueur-fil.parquet\"\n",
    "\n",
    "storage_options = {\n",
    "    \"aws_endpoint\":  s3_endpoint,\n",
    "    \"aws_access_key_id\": s3_access_key,\n",
    "    \"aws_secret_access_key\": s3_secret_access_key,\n",
    "    \"aws_token\": s3_session_token,\n",
    "    \"aws_region\": s3_region\n",
    "  }\n",
    "\n",
    "file = pl.scan_parquet(source=s3_file_path, \n",
    "                     storage_options=storage_options)"
   ]
  },
  {
   "cell_type": "code",
   "execution_count": 10,
   "id": "f07ea408-d3f7-4100-a1da-39a1ef769589",
   "metadata": {},
   "outputs": [
    {
     "data": {
      "text/html": [
       "<div><style>\n",
       ".dataframe > thead > tr,\n",
       ".dataframe > tbody > tr {\n",
       "  text-align: right;\n",
       "  white-space: pre-wrap;\n",
       "}\n",
       "</style>\n",
       "<small>shape: (50, 2)</small><table border=\"1\" class=\"dataframe\"><thead><tr><th>vetement</th><th>longueur</th></tr><tr><td>str</td><td>i64</td></tr></thead><tbody><tr><td>&quot;slip&quot;</td><td>120</td></tr><tr><td>&quot;culotte&quot;</td><td>150</td></tr><tr><td>&quot;chemise&quot;</td><td>200</td></tr><tr><td>&quot;pantalon&quot;</td><td>180</td></tr><tr><td>&quot;jupe&quot;</td><td>160</td></tr><tr><td>&hellip;</td><td>&hellip;</td></tr><tr><td>&quot;chemisette&quot;</td><td>130</td></tr><tr><td>&quot;cape&quot;</td><td>115</td></tr><tr><td>&quot;body&quot;</td><td>145</td></tr><tr><td>&quot;veston&quot;</td><td>200</td></tr><tr><td>&quot;robe de chambre&quot;</td><td>225</td></tr></tbody></table></div>"
      ],
      "text/plain": [
       "shape: (50, 2)\n",
       "┌─────────────────┬──────────┐\n",
       "│ vetement        ┆ longueur │\n",
       "│ ---             ┆ ---      │\n",
       "│ str             ┆ i64      │\n",
       "╞═════════════════╪══════════╡\n",
       "│ slip            ┆ 120      │\n",
       "│ culotte         ┆ 150      │\n",
       "│ chemise         ┆ 200      │\n",
       "│ pantalon        ┆ 180      │\n",
       "│ jupe            ┆ 160      │\n",
       "│ …               ┆ …        │\n",
       "│ chemisette      ┆ 130      │\n",
       "│ cape            ┆ 115      │\n",
       "│ body            ┆ 145      │\n",
       "│ veston          ┆ 200      │\n",
       "│ robe de chambre ┆ 225      │\n",
       "└─────────────────┴──────────┘"
      ]
     },
     "execution_count": 10,
     "metadata": {},
     "output_type": "execute_result"
    }
   ],
   "source": [
    "file.collect()"
   ]
  },
  {
   "cell_type": "code",
   "execution_count": 11,
   "id": "4a573d00-1dab-4a75-a2a5-bc2d0d51f487",
   "metadata": {},
   "outputs": [],
   "source": [
    "df = file.collect()"
   ]
  },
  {
   "cell_type": "code",
   "execution_count": 12,
   "id": "6079bf2d-461a-4d27-849b-b71dd0e5d7c3",
   "metadata": {},
   "outputs": [
    {
     "name": "stdout",
     "output_type": "stream",
     "text": [
      "shape: (50, 2)\n",
      "┌─────────────────┬──────────┐\n",
      "│ vetement        ┆ longueur │\n",
      "│ ---             ┆ ---      │\n",
      "│ str             ┆ i64      │\n",
      "╞═════════════════╪══════════╡\n",
      "│ slip            ┆ 120      │\n",
      "│ culotte         ┆ 150      │\n",
      "│ chemise         ┆ 200      │\n",
      "│ pantalon        ┆ 180      │\n",
      "│ jupe            ┆ 160      │\n",
      "│ …               ┆ …        │\n",
      "│ chemisette      ┆ 130      │\n",
      "│ cape            ┆ 115      │\n",
      "│ body            ┆ 145      │\n",
      "│ veston          ┆ 200      │\n",
      "│ robe de chambre ┆ 225      │\n",
      "└─────────────────┴──────────┘\n"
     ]
    }
   ],
   "source": [
    "print(df)"
   ]
  },
  {
   "cell_type": "code",
   "execution_count": 13,
   "id": "60c070e4-7c6b-4643-86b2-e94b8bc5bb4c",
   "metadata": {},
   "outputs": [
    {
     "data": {
      "text/html": [
       "<div><style>\n",
       ".dataframe > thead > tr,\n",
       ".dataframe > tbody > tr {\n",
       "  text-align: right;\n",
       "  white-space: pre-wrap;\n",
       "}\n",
       "</style>\n",
       "<small>shape: (1, 2)</small><table border=\"1\" class=\"dataframe\"><thead><tr><th>vetement</th><th>longueur</th></tr><tr><td>str</td><td>i64</td></tr></thead><tbody><tr><td>&quot;gilet&quot;</td><td>170</td></tr></tbody></table></div>"
      ],
      "text/plain": [
       "shape: (1, 2)\n",
       "┌──────────┬──────────┐\n",
       "│ vetement ┆ longueur │\n",
       "│ ---      ┆ ---      │\n",
       "│ str      ┆ i64      │\n",
       "╞══════════╪══════════╡\n",
       "│ gilet    ┆ 170      │\n",
       "└──────────┴──────────┘"
      ]
     },
     "execution_count": 13,
     "metadata": {},
     "output_type": "execute_result"
    }
   ],
   "source": [
    "df.filter(pl.col(\"vetement\") == \"gilet\")"
   ]
  },
  {
   "cell_type": "code",
   "execution_count": null,
   "id": "8f49849a-ca19-4647-b388-d63d4bf24477",
   "metadata": {},
   "outputs": [],
   "source": []
  }
 ],
 "metadata": {
  "kernelspec": {
   "display_name": "Python 3 (ipykernel)",
   "language": "python",
   "name": "python3"
  },
  "language_info": {
   "codemirror_mode": {
    "name": "ipython",
    "version": 3
   },
   "file_extension": ".py",
   "mimetype": "text/x-python",
   "name": "python",
   "nbconvert_exporter": "python",
   "pygments_lexer": "ipython3",
   "version": "3.12.6"
  }
 },
 "nbformat": 4,
 "nbformat_minor": 5
}
