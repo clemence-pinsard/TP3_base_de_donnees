{
 "cells": [
  {
   "cell_type": "code",
   "execution_count": null,
   "id": "6fc859b2-d7af-4613-a70a-0ac9775690b1",
   "metadata": {},
   "outputs": [],
   "source": [
    "def crible_eratosthene(n) -> list[bool]:\n",
    "    \"\"\"Génère une liste de booléens où True indique qu'un nombre est premier.\"\"\"\n",
    "\n",
    "    est_premier = [True] * (n + 1)\n",
    "    est_premier[0] = est_premier[1] = False  # 0 et 1 ne sont pas premiers\n",
    "\n",
    "    for i in range(2, int(n**0.5) + 1):\n",
    "        if est_premier[i]:\n",
    "            for multiple in range(i * i, n + 1, i):\n",
    "                est_premier[multiple] = False\n",
    "\n",
    "    return est_premier"
   ]
  },
  {
   "cell_type": "code",
   "execution_count": null,
   "id": "98148361-6f9e-4543-9e70-ff2acf104941",
   "metadata": {},
   "outputs": [],
   "source": [
    "def nb_premiers(n,m):\n",
    "    est_premier = crible_eratosthene(m)[n:]\n",
    "    s = 0 \n",
    "    for i in range(len(est_premier)): \n",
    "        if est_premier[i] :\n",
    "            s = s + 1\n",
    "    return s"
   ]
  },
  {
   "cell_type": "code",
   "execution_count": null,
   "id": "9890b8c8-420f-413c-8921-b75cc3c781c3",
   "metadata": {},
   "outputs": [],
   "source": [
    "nb_premiers(10000,100000)"
   ]
  },
  {
   "cell_type": "code",
   "execution_count": null,
   "id": "17b066e9-4383-4f98-b76f-04e9eeff861c",
   "metadata": {},
   "outputs": [],
   "source": [
    "import duckdb\n",
    "\n",
    "duckdb.sql(\"\"\"\n",
    "CREATE OR REPLACE VIEW commune AS\n",
    "FROM 'https://www.insee.fr/fr/statistiques/fichier/7766585/v_commune_2024.csv';\n",
    "\"\"\")"
   ]
  },
  {
   "cell_type": "code",
   "execution_count": null,
   "id": "58a45991-fb60-4324-a112-1af2b6e43705",
   "metadata": {},
   "outputs": [],
   "source": [
    "import pandas as pd\n",
    "\n",
    "duckdb.sql(\"\"\"\n",
    "SELECT dep,reg\n",
    "  FROM commune\n",
    "  WHERE NCC = 'MAMOUDZOU'\n",
    "\"\"\").to_df()"
   ]
  },
  {
   "cell_type": "code",
   "execution_count": null,
   "id": "9b0cc583-ead7-416a-8b50-e48952da2f61",
   "metadata": {},
   "outputs": [],
   "source": [
    "duckdb.sql(\"\"\"\n",
    "SELECT COUNT(*)\n",
    "  FROM commune\n",
    "  WHERE DEP = '973'\n",
    "\"\"\").to_df()"
   ]
  },
  {
   "cell_type": "code",
   "execution_count": null,
   "id": "a51e4e70-166a-4a65-a440-a347cbdcff05",
   "metadata": {},
   "outputs": [],
   "source": [
    "duckdb.sql(\"\"\"\n",
    "SELECT NCC\n",
    "  FROM commune\n",
    "  WHERE NCC ILIKE '%l%l%l%l%' AND (DEP = '02' OR DEP = '60' OR DEP = '80')\n",
    "\"\"\").to_df()\n",
    "\"\"\").to_df()"
   ]
  },
  {
   "cell_type": "code",
   "execution_count": null,
   "id": "f981cc29-4ce2-4031-be3b-ff06fbc06513",
   "metadata": {},
   "outputs": [],
   "source": [
    "\n"
   ]
  }
 ],
 "metadata": {
  "kernelspec": {
   "display_name": "Python 3 (ipykernel)",
   "language": "python",
   "name": "python3"
  },
  "language_info": {
   "codemirror_mode": {
    "name": "ipython",
    "version": 3
   },
   "file_extension": ".py",
   "mimetype": "text/x-python",
   "name": "python",
   "nbconvert_exporter": "python",
   "pygments_lexer": "ipython3",
   "version": "3.12.6"
  }
 },
 "nbformat": 4,
 "nbformat_minor": 5
}
